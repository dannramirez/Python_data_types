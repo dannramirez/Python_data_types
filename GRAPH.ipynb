{
 "cells": [
  {
   "cell_type": "code",
   "execution_count": null,
   "metadata": {},
   "outputs": [],
   "source": [
    " %pip install ipywidgets\n",
    " %pip install pandas"
   ]
  },
  {
   "cell_type": "code",
   "execution_count": null,
   "metadata": {},
   "outputs": [],
   "source": [
    "import pandas as pd\n",
    "import tkinter as tk\n",
    "from tkinter import filedialog\n",
    "import matplotlib.pyplot as plt"
   ]
  },
  {
   "cell_type": "code",
   "execution_count": null,
   "metadata": {},
   "outputs": [],
   "source": [
    "rTK = tk.Tk()\n",
    "rTK.withdraw()\n",
    "\n",
    "print('Please select the file')\n",
    "file_path = filedialog.askopenfilename()\n",
    "df = pd.read_csv(file_path, sep=',',parse_dates=['PRICE DATE'])\n",
    "print('File imported:' ,file_path)\n",
    "# print(df)\n",
    "dcsv=df.to_csv()\n",
    "pd.set_option(\"display.max.columns\", None)\n",
    "df.head()"
   ]
  },
  {
   "cell_type": "code",
   "execution_count": null,
   "metadata": {},
   "outputs": [],
   "source": [
    "fig = plt.figure()\n",
    "df.plot(x=\"C1\", y=[\"C2\",\"C3\", \"C4\"], rot=0)\n",
    "labels =[\"C2Name\",\"C2Name\", \"C3Name\"]\n",
    "plt.legend(labels, bbox_to_anchor=(1, 1))\n",
    "#fig.subplots_adjust(bottom=0.25)\n",
    "plt.ylabel(\"YLabel\")\n",
    "plt.xlabel(\"XLabel\")\n"
   ]
  }
 ],
 "metadata": {
  "interpreter": {
   "hash": "3d5fe9e10fddd9ea504bf1179db6c70446326130dcd3c641364644ba231fd72e"
  },
  "kernelspec": {
   "display_name": "Python 3.9.5 64-bit ('3.9.5')",
   "language": "python",
   "name": "python3"
  },
  "language_info": {
   "codemirror_mode": {
    "name": "ipython",
    "version": 3
   },
   "file_extension": ".py",
   "mimetype": "text/x-python",
   "name": "python",
   "nbconvert_exporter": "python",
   "pygments_lexer": "ipython3",
   "version": "3.9.5"
  },
  "orig_nbformat": 4
 },
 "nbformat": 4,
 "nbformat_minor": 2
}

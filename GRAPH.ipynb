{
 "cells": [
  {
   "cell_type": "code",
   "execution_count": null,
   "metadata": {},
   "outputs": [],
   "source": [
    " %pip install ipywidgets\n",
    " %pip install pandas"
   ]
  },
  {
   "cell_type": "code",
   "execution_count": null,
   "metadata": {},
   "outputs": [],
   "source": [
    "import pandas as pd\n",
    "import tkinter as tk\n",
    "from tkinter import filedialog\n",
    "import matplotlib.pyplot as plt"
   ]
  },
  {
   "cell_type": "markdown",
   "metadata": {},
   "source": [
    "# One File\n",
    "\n",
    "This code import a csv file and plot multiple variables i.e create a figure with labels on both sides of the axes "
   ]
  },
  {
   "cell_type": "code",
   "execution_count": null,
   "metadata": {},
   "outputs": [],
   "source": [
    "rTK = tk.Tk()\n",
    "rTK.withdraw()\n",
    "\n",
    "print('Please select the file')\n",
    "file_path = filedialog.askopenfilename()\n",
    "df = pd.read_csv(file_path, sep=',',parse_dates=['C1'])\n",
    "print('File imported:' ,file_path)\n",
    "\n",
    "fpathe = file_path.split(\"/\")\n",
    "fpath = fpathe[-1].split(\".\")\n",
    "\n",
    "# print(df)\n",
    "dcsv=df.to_csv()\n",
    "pd.set_option(\"display.max.columns\", None)\n",
    "\n",
    "ax1 = plt.subplot()\n",
    "df.plot(x=\"C1\", y=[\"C2\"],color='blue',ax=ax1)\n",
    "df.plot(x=\"C1\", y=[\"C3\"],color='orange',ax=ax1)\n",
    "plt.xlabel('C1')\n",
    "plt.ylabel('yLeftLabel',color='g')\n",
    "plt.legend(bbox_to_anchor=(0.5,-0.3),ncol=2)\n",
    "\n",
    "\n",
    "ax2 = ax1.twinx()\n",
    "df.plot(x=\"C1\", y=[\"C4\"],color='green',ax=ax2)\n",
    "plt.ylabel('yRightLabel', color='r')\n",
    "plt.legend(bbox_to_anchor=(1, -0.3))\n",
    "plt.savefig(f\"./charts/{fpath[0]}.pdf\",facecolor='#fefefe', transparent=True)\n",
    "plt.show()"
   ]
  },
  {
   "cell_type": "markdown",
   "metadata": {},
   "source": [
    "# Multiple Files\n",
    "\n",
    "This code import multiple csv's files and plot multiple variables i.e create a figure with labels on both sides of the axes, also save into charts folder"
   ]
  },
  {
   "cell_type": "code",
   "execution_count": null,
   "metadata": {},
   "outputs": [],
   "source": [
    "rTK = tk.Tk()\n",
    "rTK.withdraw()\n",
    "\n",
    "print('Please select the file')\n",
    "files_path = filedialog.askopenfilenames(parent=rTK, title='Choose a file')\n",
    "print(files_path)\n",
    "\n",
    "for file in files_path:\n",
    "    df = pd.read_csv(file_path, sep=',',parse_dates=['C1'])\n",
    "    print('File imported:' ,file_path)\n",
    "    fpathe = file.split(\"/\")\n",
    "    fpath = fpathe[-1].split(\".\")\n",
    "\n",
    "    # print(df)\n",
    "    dcsv=df.to_csv()\n",
    "    pd.set_option(\"display.max.columns\", None)\n",
    "    # print(df.head())\n",
    "    ax1 = plt.subplot()\n",
    "    df.plot(x=\"C1\", y=[\"C2\"],color='blue',ax=ax1)\n",
    "    df.plot(x=\"C1\", y=[\"C3\"],color='orange',ax=ax1)\n",
    "    plt.xlabel('C1')\n",
    "    plt.ylabel('yLeftLabel',color='g')\n",
    "    plt.legend(bbox_to_anchor=(0.5,-0.3),ncol=2)\n",
    "\n",
    "\n",
    "    ax2 = ax1.twinx()\n",
    "    df.plot(x=\"C1\", y=[\"C4\"],color='green',ax=ax2)\n",
    "    plt.ylabel('yRightLabel', color='r')\n",
    "    plt.legend(bbox_to_anchor=(1, -0.3))\n",
    "    plt.savefig(f\"./charts/{fpath[0]}.pdf\",facecolor='#fefefe', transparent=True)\n",
    "    plt.show()"
   ]
  }
 ],
 "metadata": {
  "interpreter": {
   "hash": "3d5fe9e10fddd9ea504bf1179db6c70446326130dcd3c641364644ba231fd72e"
  },
  "kernelspec": {
   "display_name": "Python 3.9.5 64-bit ('3.9.5')",
   "language": "python",
   "name": "python3"
  },
  "language_info": {
   "codemirror_mode": {
    "name": "ipython",
    "version": 3
   },
   "file_extension": ".py",
   "mimetype": "text/x-python",
   "name": "python",
   "nbconvert_exporter": "python",
   "pygments_lexer": "ipython3",
   "version": "3.9.5"
  },
  "orig_nbformat": 4
 },
 "nbformat": 4,
 "nbformat_minor": 2
}
